{
 "cells": [
  {
   "cell_type": "markdown",
   "id": "49920a11-cb03-4dde-8603-53e599999c75",
   "metadata": {},
   "source": [
    "### Exercise 1: Reverse a list in Python"
   ]
  },
  {
   "cell_type": "code",
   "execution_count": 3,
   "id": "daab6bfd-dd1a-49aa-8957-f88079973321",
   "metadata": {},
   "outputs": [
    {
     "name": "stdout",
     "output_type": "stream",
     "text": [
      "[600, 500, 400, 300, 200, 100]\n"
     ]
    }
   ],
   "source": [
    "def rev_list(list1):\n",
    "    new_list = []\n",
    "    for i in range(len(list1)-1, -1, -1):\n",
    "        new_list.append(list1[i])\n",
    "\n",
    "    print(new_list)\n",
    "\n",
    "rev_list([100, 200, 300, 400, 500, 600])"
   ]
  },
  {
   "cell_type": "markdown",
   "id": "17afe02e-b695-4cae-84cb-af195a04e094",
   "metadata": {},
   "source": [
    "### Exercise 2: Concatenate two lists index-wise"
   ]
  },
  {
   "cell_type": "code",
   "execution_count": 6,
   "id": "1e377a2f-c9ec-4bf1-9081-6921e8b57932",
   "metadata": {},
   "outputs": [
    {
     "name": "stdout",
     "output_type": "stream",
     "text": [
      "['My', 'name', 'is', 'Kelly']\n"
     ]
    }
   ],
   "source": [
    "def add_list(list1, list2):\n",
    "    combine_list = []\n",
    "    if len(list1) != len(list2):\n",
    "        print(\"Enter the lists with same length\")\n",
    "    else:\n",
    "        for i in range(len(list1)):\n",
    "            combine_list.append(list1[i] + list2[i])\n",
    "\n",
    "        print(combine_list)\n",
    "\n",
    "add_list([\"M\", \"na\", \"i\", \"Ke\"], [\"y\", \"me\", \"s\", \"lly\"])"
   ]
  },
  {
   "cell_type": "markdown",
   "id": "eca1ce88-b935-44d4-aef1-236dec383a6f",
   "metadata": {},
   "source": [
    "### Exercise 3: Turn every item of a list into its square\n",
    "##### Given a list of numbers. write a program to turn every item of a list into its square."
   ]
  },
  {
   "cell_type": "code",
   "execution_count": 9,
   "id": "c2521a5c-c741-4d58-9391-95bbde76b997",
   "metadata": {},
   "outputs": [
    {
     "name": "stdout",
     "output_type": "stream",
     "text": [
      "[1, 4, 9, 16, 25, 36, 49]\n"
     ]
    }
   ],
   "source": [
    "def sqr_list(list_num):\n",
    "    sqrd_list = []\n",
    "    for i in range(len(list_num)):\n",
    "        sqrd_list.append(list_num[i] ** 2)\n",
    "\n",
    "    print(sqrd_list)\n",
    "\n",
    "sqr_list([1, 2, 3, 4, 5, 6, 7])"
   ]
  },
  {
   "cell_type": "markdown",
   "id": "af417fb1-742d-469a-afb6-f3fa78b073d6",
   "metadata": {},
   "source": [
    "### Exercise 4: Concatenate two lists in the following order"
   ]
  },
  {
   "cell_type": "code",
   "execution_count": 12,
   "id": "cbf26c14-24b6-48d8-8124-8d5e9f175380",
   "metadata": {},
   "outputs": [
    {
     "name": "stdout",
     "output_type": "stream",
     "text": [
      "['Hello Dear', 'Hello Sir', 'take Dear', 'take Sir', 'Bye Dear', 'Bye Sir']\n"
     ]
    }
   ],
   "source": [
    "def conc_list(list_1, list_2):\n",
    "    comb_list = []\n",
    "    for i in range(len(list_1)):\n",
    "        for j in range(len(list_2)):\n",
    "            comb_list.append(list_1[i] + list_2[j])\n",
    "\n",
    "    print(comb_list)\n",
    "\n",
    "conc_list([\"Hello \", \"take \", \"Bye \"], [\"Dear\", \"Sir\"])"
   ]
  },
  {
   "cell_type": "markdown",
   "id": "112ee204-e1a0-44d1-bf90-d9c23b40a416",
   "metadata": {},
   "source": [
    "### Exercise 5: Iterate both lists simultaneously"
   ]
  },
  {
   "cell_type": "code",
   "execution_count": 15,
   "id": "8c3863f6-48a2-449a-a1f5-edb0360e6ea8",
   "metadata": {},
   "outputs": [
    {
     "name": "stdout",
     "output_type": "stream",
     "text": [
      "10   100\n",
      "20   200\n",
      "30   300\n",
      "40   400\n"
     ]
    }
   ],
   "source": [
    "def iterate_list(list_a, list_b):\n",
    "    if len(list_a) != len(list_b):\n",
    "        print(\"Both the lists should be of same length\")\n",
    "\n",
    "    else:\n",
    "        for i in range(len(list_a)):\n",
    "            print(list_a[i],\" \", list_b[i])\n",
    "\n",
    "iterate_list([10, 20, 30, 40], [100, 200, 300, 400])"
   ]
  },
  {
   "cell_type": "markdown",
   "id": "c238d0f1-5e3b-4fbd-99cc-48d2a5e2d5fe",
   "metadata": {},
   "source": [
    "### Exercise 6: Remove empty strings from the list of strings"
   ]
  },
  {
   "cell_type": "code",
   "execution_count": 18,
   "id": "294a78e0-9868-41bf-9472-b345379af00f",
   "metadata": {},
   "outputs": [
    {
     "name": "stdout",
     "output_type": "stream",
     "text": [
      "['Mike', 'Emma', 'Kelly', 'Brad']\n"
     ]
    }
   ],
   "source": [
    "# Solution 1\n",
    "list_test = [\"Mike\", \"\", \"Emma\", \"Kelly\", \"\", \"Brad\"]\n",
    "\n",
    "list_final = []\n",
    "\n",
    "for i in range(len(list_test)):\n",
    "    if list_test[i]:\n",
    "        list_final.append(list_test[i])\n",
    "\n",
    "print(list_final)"
   ]
  },
  {
   "cell_type": "code",
   "execution_count": 20,
   "id": "d5775821-e743-4434-94f2-ae72c75212e3",
   "metadata": {},
   "outputs": [
    {
     "name": "stdout",
     "output_type": "stream",
     "text": [
      "['Mike', 'Emma', 'Kelly', 'Brad']\n"
     ]
    }
   ],
   "source": [
    "# Solution 2\n",
    "list_test = [\"Mike\", \"\", \"Emma\", \"Kelly\", \"\", \"Brad\"]\n",
    "\n",
    "list_final = list(filter(None, list_test))\n",
    "\n",
    "print(list_final)"
   ]
  },
  {
   "cell_type": "markdown",
   "id": "9528801a-c822-4a93-ad0b-384ea7a3c1b2",
   "metadata": {},
   "source": [
    "### Exercise 7: Add new item to list after a specified item\n",
    "##### Write a program to add item 7000 after 6000 in the following Python List\n",
    "##### list1 = [10, 20, [300, 400, [5000, 6000], 500], 30, 40]"
   ]
  },
  {
   "cell_type": "code",
   "execution_count": 38,
   "id": "58528c15-62c2-4978-af77-f4be40fd95f8",
   "metadata": {},
   "outputs": [
    {
     "name": "stdout",
     "output_type": "stream",
     "text": [
      "[10, 20, [300, 400, [5000, 6000, 7000], 500], 30, 40]\n"
     ]
    }
   ],
   "source": [
    "list1 = [10, 20, [300, 400, [5000, 6000], 500], 30, 40]\n",
    "\n",
    "list1[2][2].insert(2, 7000) # inserts the specified element at the end of the specified list position\n",
    "\n",
    "print(list1)"
   ]
  },
  {
   "cell_type": "markdown",
   "id": "c995722b-3f32-4d95-9bcf-f621d1f3bbe1",
   "metadata": {},
   "source": [
    "### Exercise 8: Extend nested list by adding the sublist"
   ]
  },
  {
   "cell_type": "code",
   "execution_count": 36,
   "id": "7bf6b035-d876-4588-bb0c-d735069c111a",
   "metadata": {},
   "outputs": [
    {
     "name": "stdout",
     "output_type": "stream",
     "text": [
      "['a', 'b', ['c', ['d', 'e', ['f', 'g', 'h', 'i', 'j'], 'k'], 'l'], 'm', 'n']\n"
     ]
    }
   ],
   "source": [
    "list1 = [\"a\", \"b\", [\"c\", [\"d\", \"e\", [\"f\", \"g\"], \"k\"], \"l\"], \"m\", \"n\"]\n",
    "# list1 = [\"a\", \"b\",  [\"c\", [\"d\",    \"e\",    [\"f\",     \"g\"],       \"k\"],     \"l\"],  \"m\", \"n\"]\n",
    "# index     0    1    [2.0  [2.1.0   2.1.1   [2.1.2.0   2.1.2.1]   2.1.3]     2.2]     3    4\n",
    "\n",
    "sub_list = [\"h\", \"i\", \"j\"]\n",
    "\n",
    "list1[2][1][2].extend(sub_list) # exted adds the list of elements at the end of specified position, here it is 2.1.2\n",
    "print(list1)"
   ]
  },
  {
   "cell_type": "markdown",
   "id": "b1dd6e47-eeef-40d0-a244-225152a493fb",
   "metadata": {},
   "source": [
    "### Exercise 9: Replace list’s item with new value if found"
   ]
  },
  {
   "cell_type": "code",
   "execution_count": 47,
   "id": "1477156b-d5f8-4889-bb65-d131839caa70",
   "metadata": {},
   "outputs": [
    {
     "name": "stdout",
     "output_type": "stream",
     "text": [
      "[5, 10, 15, 200, 25, 50, 20]\n"
     ]
    }
   ],
   "source": [
    "list1 = [5, 10, 15, 20, 25, 50, 20]\n",
    "\n",
    "n = list1.index(20) # index gives the first occurance of the given list element\n",
    "list1[n] = 200\n",
    "\n",
    "print(list1)"
   ]
  },
  {
   "cell_type": "markdown",
   "id": "3f162166-06a9-4665-a27a-a83be20fbff1",
   "metadata": {},
   "source": [
    "### Exercise 10: Remove all occurrences of a specific item from a list."
   ]
  },
  {
   "cell_type": "code",
   "execution_count": 54,
   "id": "14c063f5-2aa2-42d4-9584-cfd522f9cd6c",
   "metadata": {},
   "outputs": [
    {
     "name": "stdout",
     "output_type": "stream",
     "text": [
      "[5, 15, 25, 50]\n"
     ]
    }
   ],
   "source": [
    "list1 = [5, 20, 15, 20, 25, 50, 20]\n",
    "# list1.remove(20) - this only removes the first occurance of the provided element\n",
    "list1 = [i for i in list1 if i != 20] # removes all the \n",
    "print(list1)"
   ]
  }
 ],
 "metadata": {
  "kernelspec": {
   "display_name": "Python [conda env:base] *",
   "language": "python",
   "name": "conda-base-py"
  },
  "language_info": {
   "codemirror_mode": {
    "name": "ipython",
    "version": 3
   },
   "file_extension": ".py",
   "mimetype": "text/x-python",
   "name": "python",
   "nbconvert_exporter": "python",
   "pygments_lexer": "ipython3",
   "version": "3.12.7"
  }
 },
 "nbformat": 4,
 "nbformat_minor": 5
}
