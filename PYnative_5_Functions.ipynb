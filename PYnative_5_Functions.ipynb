{
 "cells": [
  {
   "cell_type": "markdown",
   "id": "be04c11e-6ddc-455e-a785-37236f4e06f9",
   "metadata": {},
   "source": [
    "### Exercise 1: Create a function in Python\n",
    "##### Write a program to create a function that takes two arguments, name and age, and print their value."
   ]
  },
  {
   "cell_type": "code",
   "execution_count": 4,
   "id": "0aff2d73-14fa-45d0-9122-52fa3bd8692f",
   "metadata": {},
   "outputs": [
    {
     "name": "stdout",
     "output_type": "stream",
     "text": [
      "Name is: Viva\n",
      "Age is:  36\n"
     ]
    }
   ],
   "source": [
    "def details(name, age):\n",
    "    print(\"Name is:\", name)\n",
    "    print(\"Age is: \", age)\n",
    "\n",
    "details(\"Viva\", 36)"
   ]
  },
  {
   "cell_type": "markdown",
   "id": "e64a3649-acbf-4ddd-bd4d-8b64e83a879e",
   "metadata": {},
   "source": [
    "### Exercise 2: Create a function with variable length of arguments\n",
    "##### Write a program to create function func1() to accept a variable length of arguments and print their value."
   ]
  },
  {
   "cell_type": "code",
   "execution_count": 9,
   "id": "84e7b4c1-c778-4599-b6b8-34b09942bbce",
   "metadata": {},
   "outputs": [
    {
     "name": "stdout",
     "output_type": "stream",
     "text": [
      "20\n",
      "40\n",
      "60\n",
      "\n",
      "\n",
      "80\n",
      "100\n",
      "\n",
      "\n"
     ]
    }
   ],
   "source": [
    "def var_args(*args):\n",
    "    for i in args:\n",
    "        print(i)\n",
    "    print(\"\\n\")\n",
    "\n",
    "var_args(20, 40, 60)\n",
    "var_args(80, 100)"
   ]
  },
  {
   "cell_type": "markdown",
   "id": "0ba5bb77-905b-47e8-aad0-25cc87aed1c9",
   "metadata": {},
   "source": [
    "### Exercise 3: Return multiple values from a function\n",
    "##### Write a program to create function calculation() such that it can accept two variables and calculate addition and subtraction. Also, it must return both addition and subtraction in a single return call."
   ]
  },
  {
   "cell_type": "code",
   "execution_count": 12,
   "id": "61ceb140-6c1b-4f6c-8ff5-286bcc705d38",
   "metadata": {},
   "outputs": [
    {
     "name": "stdout",
     "output_type": "stream",
     "text": [
      "Sum of 40 and 10 is 50, Difference of 40 and 10 is 30\n"
     ]
    }
   ],
   "source": [
    "def calculation(a, b):\n",
    "    add = a + b\n",
    "    sub = a - b\n",
    "\n",
    "    print(f\"Sum of {a} and {b} is {add}, Difference of {a} and {b} is {sub}\")\n",
    "\n",
    "calculation(40, 10)"
   ]
  },
  {
   "cell_type": "markdown",
   "id": "28b6c08f-fb0f-4f86-a673-e14ddff59af3",
   "metadata": {},
   "source": [
    "### Exercise 4: Create a function with a default argument\n",
    "##### Write a program to create a function show_employee() using the following conditions.\n",
    "\n",
    "##### __*__ It should accept the employee’s name and salary and display both.\n",
    "##### __*__ If the salary is missing in the function call then assign default value 9000 to salary"
   ]
  },
  {
   "cell_type": "code",
   "execution_count": 15,
   "id": "fb3694de-99ad-49c8-8209-598a61b4c4ca",
   "metadata": {},
   "outputs": [
    {
     "name": "stdout",
     "output_type": "stream",
     "text": [
      "Name of the employee is Dave, and salary is 9000\n",
      "Name of the employee is Viva, and salary is 20000\n"
     ]
    }
   ],
   "source": [
    "def show_employee(name, salary = 9000):\n",
    "    print(f\"Name of the employee is {name}, and salary is {salary}\")\n",
    "\n",
    "show_employee(\"Dave\") # this assumes the salary of the employee as provided in the function definition\n",
    "show_employee(\"Viva\", 20000)"
   ]
  },
  {
   "cell_type": "markdown",
   "id": "bfec024f-4403-4e03-8494-20a5a422c432",
   "metadata": {},
   "source": [
    "### Exercise 5: Create an inner function to calculate the addition in the following way\n",
    "##### __*__ Create an outer function that will accept two parameters, a and b\n",
    "##### __*__ Create an inner function inside an outer function that will calculate the addition of a and b\n",
    "##### __*__ At last, an outer function will add 5 into addition and return it"
   ]
  },
  {
   "cell_type": "code",
   "execution_count": 30,
   "id": "1878e14e-5a00-4a16-8681-1ec48e551fbc",
   "metadata": {},
   "outputs": [
    {
     "name": "stdout",
     "output_type": "stream",
     "text": [
      "10\n"
     ]
    }
   ],
   "source": [
    "def outer_func(a, b):\n",
    "\n",
    "    def inner_func(a, b):\n",
    "        \n",
    "        sum = a + b\n",
    "        return(sum)\n",
    "\n",
    "    total = inner_func(a, b) + 5\n",
    "    \n",
    "    print(total)\n",
    "\n",
    "outer_func(2, 3)"
   ]
  },
  {
   "cell_type": "markdown",
   "id": "9631819c-0800-49d2-8aec-e810423be7e9",
   "metadata": {},
   "source": [
    "### Exercise 6: Create a recursive function\n",
    "##### Write a program to create a recursive function to calculate the sum of numbers from 0 to 10."
   ]
  },
  {
   "cell_type": "code",
   "execution_count": 35,
   "id": "e612e2e4-af4e-4e39-b4c8-a394838edf7e",
   "metadata": {},
   "outputs": [
    {
     "name": "stdout",
     "output_type": "stream",
     "text": [
      "55\n"
     ]
    }
   ],
   "source": [
    "def sum_n(n):\n",
    "    sum_n = 0\n",
    "    for i in range(n+1):\n",
    "        \n",
    "       sum_n = i + sum_n\n",
    "\n",
    "    print(sum_n)\n",
    "\n",
    "sum_n(10)        "
   ]
  },
  {
   "cell_type": "markdown",
   "id": "04f66ad5-fb89-47fd-ba49-d4c3de59c1f3",
   "metadata": {},
   "source": [
    "### Exercise 7: Assign a different name to function and call it through the new name"
   ]
  },
  {
   "cell_type": "code",
   "execution_count": 38,
   "id": "6b951774-d927-4289-b05e-01bd0839cbd2",
   "metadata": {},
   "outputs": [
    {
     "name": "stdout",
     "output_type": "stream",
     "text": [
      "Emma 26\n"
     ]
    }
   ],
   "source": [
    "def display_student(name, age):\n",
    "    print(name, age)\n",
    "\n",
    "showStudent = display_student\n",
    "\n",
    "showStudent(\"Emma\", 26)"
   ]
  },
  {
   "cell_type": "markdown",
   "id": "807b4ba8-6405-46b5-bfcb-eaffaae4e374",
   "metadata": {},
   "source": [
    "### Exercise 8: Generate a Python list of all the even numbers between 4 to 30"
   ]
  },
  {
   "cell_type": "code",
   "execution_count": 43,
   "id": "3a648467-01ab-4bd0-a04d-2b94d1ade9f3",
   "metadata": {},
   "outputs": [
    {
     "name": "stdout",
     "output_type": "stream",
     "text": [
      "[4, 6, 8, 10, 12, 14, 16, 18, 20, 22, 24, 26, 28, 30]\n"
     ]
    }
   ],
   "source": [
    "def even_list(a, b):\n",
    "    list_even = []\n",
    "    for i in range(a, b+1):\n",
    "        if i % 2 == 0:\n",
    "            list_even.append(i)\n",
    "    print(list_even)\n",
    "\n",
    "even_list(4, 30)"
   ]
  },
  {
   "cell_type": "markdown",
   "id": "1730319b-ac7e-462c-8d7f-4b68b91b043d",
   "metadata": {},
   "source": [
    "### Exercise 9: Find the largest item from a given list"
   ]
  },
  {
   "cell_type": "code",
   "execution_count": 46,
   "id": "dc748ffa-3dc3-4c7c-9a34-a033f44ee2fe",
   "metadata": {},
   "outputs": [
    {
     "name": "stdout",
     "output_type": "stream",
     "text": [
      "24\n"
     ]
    }
   ],
   "source": [
    "def find_item(list1):\n",
    "    big_num = 0\n",
    "    for i in range(len(list1)):\n",
    "        if list1[i] > big_num:\n",
    "            big_num = list1[i]\n",
    "    print(big_num)\n",
    "\n",
    "find_item([4, 6, 8, 24, 12, 2])"
   ]
  }
 ],
 "metadata": {
  "kernelspec": {
   "display_name": "Python [conda env:base] *",
   "language": "python",
   "name": "conda-base-py"
  },
  "language_info": {
   "codemirror_mode": {
    "name": "ipython",
    "version": 3
   },
   "file_extension": ".py",
   "mimetype": "text/x-python",
   "name": "python",
   "nbconvert_exporter": "python",
   "pygments_lexer": "ipython3",
   "version": "3.12.7"
  }
 },
 "nbformat": 4,
 "nbformat_minor": 5
}
