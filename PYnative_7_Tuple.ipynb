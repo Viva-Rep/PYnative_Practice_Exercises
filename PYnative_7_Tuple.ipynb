{
 "cells": [
  {
   "cell_type": "markdown",
   "id": "810f554c-b915-4167-b106-eea93cc729f6",
   "metadata": {},
   "source": [
    "### Exercise 1: Reverse the tuple"
   ]
  },
  {
   "cell_type": "code",
   "execution_count": 93,
   "id": "7449497d-e8ee-4db8-a267-98e9eb7d2ff0",
   "metadata": {},
   "outputs": [
    {
     "name": "stdout",
     "output_type": "stream",
     "text": [
      "(50, 40, 30, 20, 10)\n"
     ]
    }
   ],
   "source": [
    "#Solution 1\n",
    "tuple1 = (10, 20, 30, 40, 50)\n",
    "\n",
    "rev = []\n",
    "\n",
    "for i in range(len(tuple1)-1, -1, -1):\n",
    "    rev.append(tuple1[i])\n",
    "\n",
    "rev_tuple = tuple(rev)\n",
    "print(rev_tuple)\n",
    "    "
   ]
  },
  {
   "cell_type": "code",
   "execution_count": 94,
   "id": "62fd64ea-24f6-4b14-a014-0a68683a290a",
   "metadata": {},
   "outputs": [
    {
     "name": "stdout",
     "output_type": "stream",
     "text": [
      "(50, 40, 30, 20, 10)\n"
     ]
    }
   ],
   "source": [
    "#Solution 2\n",
    "tuple1 = (10, 20, 30, 40, 50)\n",
    "tuple1 = tuple1[::-1]\n",
    "print(tuple1)"
   ]
  },
  {
   "cell_type": "markdown",
   "id": "5f82484b-8f3c-4459-8d0b-b1cc953add03",
   "metadata": {},
   "source": [
    "### Exercise 2: Access value 20 from the tuple\n",
    "##### The given tuple is a nested tuple. write a Python program to print the value 20."
   ]
  },
  {
   "cell_type": "code",
   "execution_count": 96,
   "id": "a91170bd-b03a-44f7-94e3-732f79005699",
   "metadata": {},
   "outputs": [
    {
     "name": "stdout",
     "output_type": "stream",
     "text": [
      "20\n"
     ]
    }
   ],
   "source": [
    "tuple1 = (\"Orange\", [10, 20, 30], (5, 15, 25))\n",
    "\n",
    "print(tuple1[1][1])"
   ]
  },
  {
   "cell_type": "markdown",
   "id": "14a241fd-7243-4a4b-bda2-419642c43229",
   "metadata": {},
   "source": [
    "### Exercise 3: Create a tuple with single item 50"
   ]
  },
  {
   "cell_type": "code",
   "execution_count": 98,
   "id": "9bce93c9-bd2f-41b7-b68f-82c96ce7a543",
   "metadata": {},
   "outputs": [
    {
     "name": "stdout",
     "output_type": "stream",
     "text": [
      "(50,)\n"
     ]
    }
   ],
   "source": [
    "tuple_s = (50, )\n",
    "\n",
    "print(tuple_s)"
   ]
  },
  {
   "cell_type": "markdown",
   "id": "1a147f25-982a-48d1-8a75-f479f16d1cae",
   "metadata": {},
   "source": [
    "### Exercise 4: Unpack the tuple into 4 variables\n",
    "##### Write a program to unpack the following tuple into four variables and display each variable."
   ]
  },
  {
   "cell_type": "code",
   "execution_count": 100,
   "id": "95ad08ac-ba95-4166-b981-ff8b14c47dd9",
   "metadata": {},
   "outputs": [
    {
     "name": "stdout",
     "output_type": "stream",
     "text": [
      "10\n",
      "20\n",
      "30\n",
      "40\n"
     ]
    }
   ],
   "source": [
    "tuple1 = (10, 20, 30, 40)\n",
    "\n",
    "a, b, c, d = tuple1\n",
    "print(a)\n",
    "print(b)\n",
    "print(c)\n",
    "print(d)"
   ]
  },
  {
   "cell_type": "markdown",
   "id": "b9bf2bad-4b49-438a-a206-fe132908a05b",
   "metadata": {},
   "source": [
    "### Exercise 5: Swap two tuples in Python"
   ]
  },
  {
   "cell_type": "code",
   "execution_count": 102,
   "id": "7b7856b0-1ce4-4609-85a8-f57e1388353a",
   "metadata": {},
   "outputs": [
    {
     "name": "stdout",
     "output_type": "stream",
     "text": [
      "tuple1: (99, 88)\n",
      "tuple2: (11, 22)\n"
     ]
    }
   ],
   "source": [
    "tuple1 = (11, 22)\n",
    "tuple2 = (99, 88)\n",
    "\n",
    "tuple1, tuple2 = tuple2, tuple1\n",
    "\n",
    "print(\"tuple1:\", tuple1)\n",
    "print(\"tuple2:\", tuple2)"
   ]
  },
  {
   "cell_type": "markdown",
   "id": "4aa7c973-8c31-4e76-a1cc-3973249a20f7",
   "metadata": {},
   "source": [
    "### Exercise 6: Copy specific elements from one tuple to a new tuple\n",
    "##### Write a program to copy elements 44 and 55 from the following tuple into a new tuple."
   ]
  },
  {
   "cell_type": "code",
   "execution_count": 104,
   "id": "1ea6f0c5-7ed7-4ae3-a7d3-12b8e6d32120",
   "metadata": {},
   "outputs": [
    {
     "name": "stdout",
     "output_type": "stream",
     "text": [
      "tuple2: (44, 55)\n"
     ]
    }
   ],
   "source": [
    "tuple1 = (11, 22, 33, 44, 55, 66)\n",
    "\n",
    "tuple2 = (tuple1[3], tuple1[4])\n",
    "\n",
    "print(\"tuple2:\", tuple2)"
   ]
  },
  {
   "cell_type": "markdown",
   "id": "98e70757-5c82-4e31-8a64-d58fe3413946",
   "metadata": {},
   "source": [
    "### Exercise 7: Modify the tuple\n",
    "##### Given is a nested tuple. Write a program to modify the first item (22) of a list inside a following tuple to 222"
   ]
  },
  {
   "cell_type": "code",
   "execution_count": 106,
   "id": "06561b8b-9dfd-4afa-8123-5dbcba93a9c1",
   "metadata": {},
   "outputs": [
    {
     "name": "stdout",
     "output_type": "stream",
     "text": [
      "(11, [222, 33], 44, 55)\n"
     ]
    }
   ],
   "source": [
    "tuple1 = (11, [22, 33], 44, 55)\n",
    "\n",
    "tuple1[1][0] = 222\n",
    "print(tuple1)"
   ]
  },
  {
   "cell_type": "markdown",
   "id": "283e5d29-0dd9-4eca-9d76-06919361f2e7",
   "metadata": {},
   "source": [
    "### Exercise 8: Sort a tuple of tuples by 2nd item"
   ]
  },
  {
   "cell_type": "code",
   "execution_count": 108,
   "id": "7566e14d-5156-44b3-ad2b-50933540db34",
   "metadata": {},
   "outputs": [
    {
     "name": "stdout",
     "output_type": "stream",
     "text": [
      "(('c', 11), ('a', 23), ('d', 29), ('b', 37))\n"
     ]
    }
   ],
   "source": [
    "tuple1 = (('a', 23), ('b', 37), ('c', 11), ('d', 29))\n",
    "tuple1 = tuple(sorted(list(tuple1), key=lambda x: x[1]))\n",
    "print(tuple1)"
   ]
  },
  {
   "cell_type": "markdown",
   "id": "80ba517e-0152-494f-8af3-63e92dbdd98e",
   "metadata": {},
   "source": [
    "### Exercise 9: Counts the number of occurrences of item 50 from a tuple"
   ]
  },
  {
   "cell_type": "code",
   "execution_count": 110,
   "id": "462347d1-df26-453e-b20a-1816cb0b69af",
   "metadata": {},
   "outputs": [
    {
     "name": "stdout",
     "output_type": "stream",
     "text": [
      "2\n"
     ]
    }
   ],
   "source": [
    "# Solution 1\n",
    "tuple1 = (50, 10, 60, 70, 50)\n",
    "count = 0\n",
    "for i in range(0, len(tuple1), 1):\n",
    "    if tuple1[i] == 50:\n",
    "        count = count + 1\n",
    "\n",
    "print(count)"
   ]
  },
  {
   "cell_type": "code",
   "execution_count": 111,
   "id": "e0637c67-1bfb-4d9e-b2aa-f828078e299b",
   "metadata": {},
   "outputs": [
    {
     "name": "stdout",
     "output_type": "stream",
     "text": [
      "2\n"
     ]
    }
   ],
   "source": [
    "# Solution 2\n",
    "tuple1 = (50, 10, 60, 70, 50)\n",
    "print(tuple1.count(50))"
   ]
  },
  {
   "cell_type": "markdown",
   "id": "f3a683bc-6880-4d38-b966-106185e4ac80",
   "metadata": {},
   "source": [
    "### Exercise 10: Check if all items in the tuple are the same"
   ]
  },
  {
   "cell_type": "code",
   "execution_count": 113,
   "id": "78e4fec9-4a47-4513-88ed-0f58308ac9e8",
   "metadata": {},
   "outputs": [
    {
     "name": "stdout",
     "output_type": "stream",
     "text": [
      "True\n"
     ]
    }
   ],
   "source": [
    "tuple1 = (45, 45, 45, 45)\n",
    "\n",
    "print(all(i == tuple1[0] for i in tuple1))"
   ]
  }
 ],
 "metadata": {
  "kernelspec": {
   "display_name": "Python [conda env:base] *",
   "language": "python",
   "name": "conda-base-py"
  },
  "language_info": {
   "codemirror_mode": {
    "name": "ipython",
    "version": 3
   },
   "file_extension": ".py",
   "mimetype": "text/x-python",
   "name": "python",
   "nbconvert_exporter": "python",
   "pygments_lexer": "ipython3",
   "version": "3.12.7"
  }
 },
 "nbformat": 4,
 "nbformat_minor": 5
}
