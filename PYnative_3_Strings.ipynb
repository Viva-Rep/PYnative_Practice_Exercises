{
 "cells": [
  {
   "cell_type": "markdown",
   "id": "f36b1278-4677-410f-8739-fe4d5061963e",
   "metadata": {},
   "source": [
    "### Exercise 1A: Create a string made of the first, middle and last character\n",
    "##### Write a program to create a new string made of an input string’s first, middle, and last character."
   ]
  },
  {
   "cell_type": "code",
   "execution_count": 27,
   "id": "b07f988a-6a82-4072-a22a-ef94b2315cab",
   "metadata": {},
   "outputs": [],
   "source": [
    "import math"
   ]
  },
  {
   "cell_type": "code",
   "execution_count": 28,
   "id": "d52e7d74-4c8c-4099-8ea3-e4136f3c9fad",
   "metadata": {},
   "outputs": [
    {
     "name": "stdin",
     "output_type": "stream",
     "text": [
      "Enter the string James\n"
     ]
    },
    {
     "name": "stdout",
     "output_type": "stream",
     "text": [
      "Jes\n"
     ]
    }
   ],
   "source": [
    "ip_str = str(input(\"Enter the string\"))\n",
    "\n",
    "print(ip_str[0], end =\"\")\n",
    "\n",
    "if len(ip_str) % 2 == 0:\n",
    "    print(ip_str[int((len(ip_str)/2))-1], end =\"\")\n",
    "    print(ip_str[int((len(ip_str)/2))], end =\"\")\n",
    "else:\n",
    "    print(ip_str[math.ceil(len(ip_str)/2)], end =\"\")\n",
    "    \n",
    "print(ip_str[-1])"
   ]
  },
  {
   "cell_type": "markdown",
   "id": "79d0a05f-1467-43d5-976a-69488a75f0d0",
   "metadata": {},
   "source": [
    "### Exercise 1B: Create a string made of the middle three characters\n",
    "##### Write a program to create a new string made of the middle three characters of an input string."
   ]
  },
  {
   "cell_type": "code",
   "execution_count": 30,
   "id": "9dabe7b6-7081-475f-aab8-0298d24021b8",
   "metadata": {},
   "outputs": [
    {
     "name": "stdin",
     "output_type": "stream",
     "text": [
      "Enter the string to dissect JhonDipPeta\n"
     ]
    },
    {
     "name": "stdout",
     "output_type": "stream",
     "text": [
      "Dip\n"
     ]
    }
   ],
   "source": [
    "str_input = str(input(\"Enter the string to dissect\"))\n",
    "\n",
    "print(str_input[math.floor(len(str_input)/2)-1:math.floor(len(str_input)/2)+2])"
   ]
  },
  {
   "cell_type": "markdown",
   "id": "d709af36-0ba3-4cdc-b2ca-15d4245c1fff",
   "metadata": {},
   "source": [
    "### Exercise 2: Append new string in the middle of a given string\n",
    "##### Given two strings, s1 and s2. Write a program to create a new string s3 by appending s2 in the middle of s1."
   ]
  },
  {
   "cell_type": "code",
   "execution_count": 32,
   "id": "d0e82bad-a8a0-42eb-98f6-65372d360fe8",
   "metadata": {},
   "outputs": [
    {
     "name": "stdout",
     "output_type": "stream",
     "text": [
      "AulKellyt\n"
     ]
    }
   ],
   "source": [
    "def str_insert(s1, s2):\n",
    "    if len(s1) % 2 != 0:\n",
    "        print(\"Enter the first string with even number of characters\")\n",
    "    else:\n",
    "        n = int(len(s1) / 2)\n",
    "        print(s1[:n+1] + s2 + s1[n+1:])\n",
    "\n",
    "str_insert(\"Ault\", \"Kelly\")"
   ]
  },
  {
   "cell_type": "markdown",
   "id": "49129d5d-3525-4c02-b269-344418dd84e7",
   "metadata": {},
   "source": [
    "### Exercise 3: Create a new string made of the first, middle, and last characters of each input string\n",
    "##### Given two strings, s1 and s2, write a program to return a new string made of s1 and s2’s first, middle, and last characters."
   ]
  },
  {
   "cell_type": "code",
   "execution_count": 34,
   "id": "4a17404c-8c8a-47a0-bc2f-083bb70adf6a",
   "metadata": {},
   "outputs": [
    {
     "name": "stdout",
     "output_type": "stream",
     "text": [
      "AJrpan\n"
     ]
    }
   ],
   "source": [
    "import math\n",
    "def new_str(s1, s2):\n",
    "    n1 = int(math.floor(len(s1)/2))\n",
    "    n2 = int(math.floor(len(s2)/2))\n",
    "\n",
    "    print(s1[0] + s2[0] + s1[n1] + s2[n2] + s1[-1] + s2[-1])\n",
    "\n",
    "new_str(\"America\", \"Japan\")"
   ]
  },
  {
   "cell_type": "markdown",
   "id": "c50d75ac-9fe6-44f8-9588-2138f4a1813b",
   "metadata": {},
   "source": [
    "### Exercise 4: Arrange string characters such that lowercase letters should come first\n",
    "##### Given string contains a combination of the lower and upper case letters. Write a program to arrange the characters of a string so that all lowercase letters should come first."
   ]
  },
  {
   "cell_type": "code",
   "execution_count": 36,
   "id": "44be203e-6892-4a98-b0c9-66cf3ed16385",
   "metadata": {},
   "outputs": [
    {
     "name": "stdout",
     "output_type": "stream",
     "text": [
      "The sorterd string is:  yaivePNT\n"
     ]
    }
   ],
   "source": [
    "def sort_str(str1):\n",
    "\n",
    "    str_lower = \"\"\n",
    "    str_upper = \"\"\n",
    "    \n",
    "    for i in range(len(str1)):\n",
    "        if str1[i].islower():\n",
    "            str_lower += str1[i]\n",
    "    \n",
    "    for i in range(len(str1)):\n",
    "        if str1[i].isupper():\n",
    "            str_upper += str1[i]\n",
    "    \n",
    "    sorted_str = str_lower + str_upper\n",
    "    \n",
    "    print(\"The sorterd string is: \", sorted_str)\n",
    "\n",
    "sort_str(\"PyNaTive\")"
   ]
  },
  {
   "cell_type": "markdown",
   "id": "9200e5e7-4f60-4d9d-b24f-c826023558ef",
   "metadata": {},
   "source": [
    "### Exercise 5: Count all letters, digits, and special symbols from a given string"
   ]
  },
  {
   "cell_type": "code",
   "execution_count": 38,
   "id": "9d8e4efe-f664-455a-af46-97e29095e386",
   "metadata": {},
   "outputs": [
    {
     "name": "stdout",
     "output_type": "stream",
     "text": [
      "Chars =  8\n",
      "Digits =  3\n",
      "Symbl =  4\n"
     ]
    }
   ],
   "source": [
    "# Solution 1\n",
    "\n",
    "def str_count(str_q):\n",
    "    count_alpha = 0\n",
    "    count_digit = 0\n",
    "\n",
    "    for i in range(len(str_q)):\n",
    "        if str_q[i].isalpha():\n",
    "            count_alpha = count_alpha + 1\n",
    "\n",
    "    for i in range(len(str_q)):\n",
    "        if str_q[i].isdigit():\n",
    "            count_digit = count_digit + 1\n",
    "            \n",
    "    count_symbol = len(str_q) - count_alpha - count_digit\n",
    "\n",
    "    print(\"Chars = \", count_alpha)\n",
    "    print(\"Digits = \", count_digit)\n",
    "    print(\"Symbl = \", count_symbol)\n",
    "\n",
    "str_count(\"P@#yn26at^&i5ve\")"
   ]
  },
  {
   "cell_type": "code",
   "execution_count": 39,
   "id": "c6cbd4f5-c621-421c-9093-af42ff96df6c",
   "metadata": {},
   "outputs": [
    {
     "name": "stdout",
     "output_type": "stream",
     "text": [
      "Chars =  8\n",
      "Digits =  3\n",
      "Symbl =  4\n"
     ]
    }
   ],
   "source": [
    "# Solution 2\n",
    "\n",
    "def str_count(str_q):\n",
    "    count_alpha = 0\n",
    "    count_digit = 0\n",
    "    count_symbol = 0\n",
    "\n",
    "    for i in range(len(str_q)):\n",
    "        if str_q[i].isalpha():\n",
    "            count_alpha = count_alpha + 1\n",
    "\n",
    "        elif str_q[i].isdigit():\n",
    "            count_digit = count_digit + 1\n",
    "\n",
    "        else:\n",
    "            count_symbol = count_symbol + 1\n",
    "\n",
    "    print(\"Chars = \", count_alpha)\n",
    "    print(\"Digits = \", count_digit)\n",
    "    print(\"Symbl = \", count_symbol)\n",
    "\n",
    "str_count(\"P@#yn26at^&i5ve\")"
   ]
  },
  {
   "cell_type": "markdown",
   "id": "fc0dd41a-6739-4a71-8c27-a99006ebceeb",
   "metadata": {},
   "source": [
    "### Exercise 6: Create a mixed String using the following rules\n",
    "##### Given two strings, s1 and s2. Write a program to create a new string s3 made of the first char of s1, then the last char of s2, Next, the second char of s1 and second last char of s2, and so on. Any leftover chars go at the end of the result."
   ]
  },
  {
   "cell_type": "code",
   "execution_count": 41,
   "id": "8c0ebb61-d273-44b2-aa4c-585393413e0a",
   "metadata": {},
   "outputs": [
    {
     "name": "stdout",
     "output_type": "stream",
     "text": [
      "AZBYCX\n"
     ]
    }
   ],
   "source": [
    "def str_conc(str1, str2):\n",
    "    new_str = \"\"\n",
    "    if len(str1) != len(str2):\n",
    "        print(\"Both the strings should be of same length\")\n",
    "    else:\n",
    "        for i in range(len(str1)):\n",
    "            new_str = new_str + str1[i] + str2[len(str2) - i - 1]\n",
    "            i = i + 1\n",
    "\n",
    "    print(new_str)\n",
    "\n",
    "str_conc(\"ABC\", \"XYZ\")\n",
    "    "
   ]
  },
  {
   "cell_type": "markdown",
   "id": "92cba75f-a26e-446d-ac4f-d75a106425e1",
   "metadata": {},
   "source": [
    "### Exercise 7: String characters balance Test\n",
    "##### Write a program to check if two strings are balanced. For example, strings s1 and s2 are balanced if all the characters in the s1 are present in s2. The character’s position doesn’t matter."
   ]
  },
  {
   "cell_type": "code",
   "execution_count": 43,
   "id": "8f97ab21-bb6e-4ea4-a7a2-9c67cdefc584",
   "metadata": {},
   "outputs": [
    {
     "name": "stdout",
     "output_type": "stream",
     "text": [
      "False\n"
     ]
    }
   ],
   "source": [
    "def sub_str(s1, s2):\n",
    "    print(True if s2 in s1 else False)\n",
    "\n",
    "sub_str(\"PYnative\", \"Ynf\")"
   ]
  },
  {
   "cell_type": "markdown",
   "id": "7ea8e0e1-943e-42f3-888b-d966a33ea982",
   "metadata": {},
   "source": [
    "### Exercise 8: Find all occurrences of a substring in a given string by ignoring the case\n",
    "##### Write a program to find all occurrences of “USA” in a given string ignoring the case.\n",
    "##### str1 = \"Welcome to USA. usa awesome, isn't it?\""
   ]
  },
  {
   "cell_type": "code",
   "execution_count": 45,
   "id": "cd31a8db-7213-40c7-8911-f8f7c7c669dd",
   "metadata": {},
   "outputs": [
    {
     "name": "stdin",
     "output_type": "stream",
     "text": [
      "Enter the string Welcome to USA. usa awesome, isn't it?\n",
      "Enter the sub-string to find USA\n"
     ]
    },
    {
     "name": "stdout",
     "output_type": "stream",
     "text": [
      "The usa count is: 2\n"
     ]
    }
   ],
   "source": [
    "s1 = str(input(\"Enter the string\"))\n",
    "s2 = str(input(\"Enter the sub-string to find\"))\n",
    "\n",
    "s_original = s1.lower()\n",
    "s_sub = s2.lower()\n",
    "\n",
    "n_occurances = s_original.count(s_sub)\n",
    "\n",
    "print(f\"The {s_sub} count is: {n_occurances}\")"
   ]
  },
  {
   "cell_type": "markdown",
   "id": "969fb281-518b-48f0-9697-b06e4028af66",
   "metadata": {},
   "source": [
    "### Exercise 9: Calculate the sum and average of the digits present in a string\n",
    "##### Given a string s1, write a program to return the sum and average of the digits that appear in the string, ignoring all other characters."
   ]
  },
  {
   "cell_type": "code",
   "execution_count": 47,
   "id": "4bf2c193-a611-4120-ba97-8eda42c1c6e0",
   "metadata": {},
   "outputs": [
    {
     "name": "stdout",
     "output_type": "stream",
     "text": [
      "Sum of digits in the given string is:  38\n",
      "Average of digits in the given string is:  6.333333333333333\n"
     ]
    }
   ],
   "source": [
    "def calc_str(str1):\n",
    "    digit_in_strng = []\n",
    "    for i in range(len(str1)):\n",
    "        if str1[i].isdigit():\n",
    "            digit_in_strng.append(int(str1[i]))\n",
    "\n",
    "    sum_of_digits = sum(digit_in_strng)\n",
    "    average_of_digits = sum(digit_in_strng) / len(digit_in_strng)\n",
    "    print(\"Sum of digits in the given string is: \", sum_of_digits)\n",
    "    print(\"Average of digits in the given string is: \", average_of_digits)\n",
    "\n",
    "calc_str(\"PYnative29@#8496\")"
   ]
  },
  {
   "cell_type": "markdown",
   "id": "c49a6cb5-85d0-4439-a739-7a1f448ca835",
   "metadata": {},
   "source": [
    "### Exercise 10: Write a program to count occurrences of all characters within a string"
   ]
  },
  {
   "cell_type": "code",
   "execution_count": 49,
   "id": "d7e99888-ba2d-4e73-8723-37f268e3b4a4",
   "metadata": {},
   "outputs": [
    {
     "name": "stdout",
     "output_type": "stream",
     "text": [
      "Result:  {'A': 1, 'p': 2, 'l': 1, 'e': 1}\n"
     ]
    }
   ],
   "source": [
    "def count_occur(str_count):\n",
    "    str_dict = dict()\n",
    "    for i in str_count:\n",
    "        n = str_count.count(i)\n",
    "        str_dict[i] = n\n",
    "\n",
    "    print(\"Result: \", str_dict)\n",
    "\n",
    "count_occur(\"Apple\")"
   ]
  },
  {
   "cell_type": "markdown",
   "id": "508e61ad-ab0e-41a6-9002-8ce7e917f1c7",
   "metadata": {},
   "source": [
    "### Exercise 11: Reverse a given string"
   ]
  },
  {
   "cell_type": "code",
   "execution_count": 51,
   "id": "2aef9a38-cb49-4b3f-ba03-abd3bf5bec9f",
   "metadata": {},
   "outputs": [
    {
     "name": "stdout",
     "output_type": "stream",
     "text": [
      "evitanYP\n"
     ]
    }
   ],
   "source": [
    "def str_rev(str_orgi):\n",
    "    rev_str = \"\"\n",
    "    for i in range(len(str_orgi)-1, -1, -1):\n",
    "        rev_str = rev_str + str_orgi[i]\n",
    "        \n",
    "    print(rev_str)\n",
    "\n",
    "str_rev(\"PYnative\")"
   ]
  },
  {
   "cell_type": "markdown",
   "id": "f185eaad-e90d-44d0-9c70-e1e925f7ef65",
   "metadata": {},
   "source": [
    "### Exercise 12: Find the last position of a given substring\n",
    "##### Write a program to find the last position of a substring “Emma” in a given string.\n",
    "##### str1 = \"Emma is a data scientist who knows Python. Emma works at google.\""
   ]
  },
  {
   "cell_type": "code",
   "execution_count": 53,
   "id": "7e864204-3f20-4423-a85a-c6416ff367a9",
   "metadata": {},
   "outputs": [
    {
     "name": "stdin",
     "output_type": "stream",
     "text": [
      "Enter the string: Emma is a data scientist who knows Python. Emma works at google.\n",
      "Enter the sub-string to check: Emma\n"
     ]
    },
    {
     "name": "stdout",
     "output_type": "stream",
     "text": [
      "Last occurace of Emma starts at index 43\n"
     ]
    }
   ],
   "source": [
    "def substrn_pos():\n",
    "    str1 = str(input(\"Enter the string:\"))\n",
    "    str2 = str(input(\"Enter the sub-string to check:\"))\n",
    "\n",
    "    r_pos_str2 = str1.rfind(str2)\n",
    "    # l_pos_str2 = str1.find(str2)\n",
    "\n",
    "    # print(f\"First occurace of {str2} starts at index {l_pos_str2}\")\n",
    "    print(f\"Last occurace of {str2} starts at index {r_pos_str2}\")\n",
    "\n",
    "substrn_pos()\n",
    "    "
   ]
  },
  {
   "cell_type": "markdown",
   "id": "c490f986-5221-4dfd-9b43-d68ba27fe32b",
   "metadata": {},
   "source": [
    "### Exercise 13: Split a string on hyphens\n",
    "##### Write a program to split a given string on hyphens and display each substring."
   ]
  },
  {
   "cell_type": "code",
   "execution_count": 93,
   "id": "0a9fef8e-c84f-41e4-9ba8-b12d8e4e64ea",
   "metadata": {},
   "outputs": [
    {
     "name": "stdin",
     "output_type": "stream",
     "text": [
      "Enter the original string: Emma-is-a-data-scientist\n"
     ]
    },
    {
     "name": "stdout",
     "output_type": "stream",
     "text": [
      "Emma\n",
      "is\n",
      "a\n",
      "data\n",
      "scientist\n"
     ]
    }
   ],
   "source": [
    "# Solution # 1\n",
    "str_split = str(input(\"Enter the original string:\"))\n",
    "s = str_split.replace(\"-\", \" \")\n",
    "s_new = s.split()\n",
    "for i in s_new:\n",
    "    print(i)"
   ]
  },
  {
   "cell_type": "code",
   "execution_count": 95,
   "id": "304e3c14-8798-45c3-9b7e-624de49bc7ef",
   "metadata": {},
   "outputs": [
    {
     "name": "stdin",
     "output_type": "stream",
     "text": [
      "Enter the original string: Emma-is-a-data-scientist\n"
     ]
    },
    {
     "name": "stdout",
     "output_type": "stream",
     "text": [
      "Emma\n",
      "is\n",
      "a\n",
      "data\n",
      "scientist\n"
     ]
    }
   ],
   "source": [
    "# Solution # 2\n",
    "str_split = str(input(\"Enter the original string:\"))\n",
    "s_new = str_split.split(\"-\")\n",
    "for i in s_new:\n",
    "    print(i)"
   ]
  },
  {
   "cell_type": "markdown",
   "id": "f900eaff-1f14-46a6-a772-fed98b37fc7a",
   "metadata": {},
   "source": [
    "### Exercise 14: Remove empty strings from a list of strings"
   ]
  },
  {
   "cell_type": "code",
   "execution_count": 58,
   "id": "c2bd0f43-d4ce-4d16-82bd-6df221a1a338",
   "metadata": {},
   "outputs": [
    {
     "name": "stdout",
     "output_type": "stream",
     "text": [
      "Original list of string\n",
      " ['Emma', 'Jon', '', 'Kelly', None, 'Eric', '']\n",
      "\n",
      "After removing empty strings\n",
      " ['Emma', 'Jon', 'Kelly', 'Eric']\n"
     ]
    }
   ],
   "source": [
    "# Solution 1\n",
    "str_list = [\"Emma\", \"Jon\", \"\", \"Kelly\", None, \"Eric\", \"\"]\n",
    "\n",
    "print(\"Original list of string\\n\", str_list)\n",
    "\n",
    "for i in str_list:\n",
    "    if i == None:\n",
    "        str_list.remove(i)\n",
    "    elif len(i) == 0:\n",
    "        str_list.remove(i)\n",
    "\n",
    "print(\"\\nAfter removing empty strings\\n\", str_list)"
   ]
  },
  {
   "cell_type": "code",
   "execution_count": 59,
   "id": "1eb6a6bb-7491-4949-b13a-8700df2f287e",
   "metadata": {},
   "outputs": [
    {
     "name": "stdout",
     "output_type": "stream",
     "text": [
      "Original list of string\n",
      " ['Emma', 'Jon', '', 'Kelly', None, 'Eric', '']\n",
      "\n",
      "After removing empty strings\n",
      " ['Emma', 'Jon', 'Kelly', 'Eric']\n"
     ]
    }
   ],
   "source": [
    "# Solution 2\n",
    "str_list = [\"Emma\", \"Jon\", \"\", \"Kelly\", None, \"Eric\", \"\"]\n",
    "\n",
    "print(\"Original list of string\\n\", str_list)\n",
    "\n",
    "new_list = list(filter(None, str_list))\n",
    "\n",
    "print(\"\\nAfter removing empty strings\\n\", new_list)"
   ]
  },
  {
   "cell_type": "code",
   "execution_count": 60,
   "id": "5b2d2c5e-ca01-41e7-ae2a-2f964d95c41e",
   "metadata": {},
   "outputs": [
    {
     "name": "stdout",
     "output_type": "stream",
     "text": [
      "Original list of string\n",
      " ['Emma', 'Jon', '', 'Kelly', None, 'Eric', '']\n",
      "\n",
      "After removing empty strings\n",
      " ['Emma', 'Jon', 'Kelly', 'Eric']\n"
     ]
    }
   ],
   "source": [
    "# Solution 3\n",
    "str_list = [\"Emma\", \"Jon\", \"\", \"Kelly\", None, \"Eric\", \"\"]\n",
    "print(\"Original list of string\\n\", str_list)\n",
    "\n",
    "new_list = []\n",
    "\n",
    "for i in str_list:\n",
    "    if i:\n",
    "        new_list.append(i)\n",
    "\n",
    "print(\"\\nAfter removing empty strings\\n\", new_list)"
   ]
  },
  {
   "cell_type": "markdown",
   "id": "c7605942-441d-472c-b35b-98265e297a7c",
   "metadata": {},
   "source": [
    "### Exercise 15: Remove special symbols / punctuation from a string"
   ]
  },
  {
   "cell_type": "code",
   "execution_count": 62,
   "id": "ec521c86-a1fe-4377-a13c-61304fccf5e8",
   "metadata": {},
   "outputs": [
    {
     "name": "stdin",
     "output_type": "stream",
     "text": [
      "Enter the string input: /*Jon is @developer & musician\n"
     ]
    },
    {
     "name": "stdout",
     "output_type": "stream",
     "text": [
      "Jon is developer musician\n"
     ]
    }
   ],
   "source": [
    "# Solution 1\n",
    "\n",
    "str_input = str(input(\"Enter the string input:\"))\n",
    "\n",
    "new_str = str_input\n",
    "\n",
    "for i in new_str:\n",
    "    if i.isalnum() == False and i != \" \":\n",
    "        new_str = new_str.replace(i, \"\")\n",
    "\n",
    "new_str = new_str.replace(\"  \", \" \")\n",
    "print(new_str)"
   ]
  },
  {
   "cell_type": "code",
   "execution_count": 63,
   "id": "b2c2d038-863c-4a44-bbf8-93ce879a8220",
   "metadata": {},
   "outputs": [
    {
     "name": "stdin",
     "output_type": "stream",
     "text": [
      "Enter the string input: /*Jon is @developer & musician\n"
     ]
    },
    {
     "name": "stdout",
     "output_type": "stream",
     "text": [
      "Original string is  /*Jon is @developer & musician\n",
      "New string is  Jon is developer  musician\n"
     ]
    }
   ],
   "source": [
    "# Solution 1 - using string functions\n",
    "\n",
    "import string\n",
    "\n",
    "str1 = str(input(\"Enter the string input:\"))\n",
    "print(\"Original string is \", str1)\n",
    "\n",
    "new_str = str1.translate(str.maketrans('', '', string.punctuation))\n",
    "\n",
    "print(\"New string is \", new_str)"
   ]
  },
  {
   "cell_type": "markdown",
   "id": "8e00519d-f1b4-4451-9fb8-0edf8934ea8b",
   "metadata": {},
   "source": [
    "### Exercise 16: Removal all characters from a string except integers"
   ]
  },
  {
   "cell_type": "code",
   "execution_count": 65,
   "id": "adf7f322-8696-4851-b293-9d6586333e3e",
   "metadata": {},
   "outputs": [
    {
     "name": "stdout",
     "output_type": "stream",
     "text": [
      "Original string is: I am 25 years and 10 months old\n",
      "2510\n"
     ]
    }
   ],
   "source": [
    "# Solution 1\n",
    "def str_trunc(str1):\n",
    "    print(\"Original string is:\", str1)\n",
    "    for i in str1:\n",
    "        if i.isdigit() == False:\n",
    "            str1 = str1.replace(i, \"\")\n",
    "\n",
    "    print(int(str1))\n",
    "\n",
    "str_trunc(\"I am 25 years and 10 months old\")\n",
    "        "
   ]
  },
  {
   "cell_type": "code",
   "execution_count": 66,
   "id": "6c3ad352-68df-42ec-9c2e-44c348a06ad8",
   "metadata": {},
   "outputs": [
    {
     "name": "stdout",
     "output_type": "stream",
     "text": [
      "Original string is: I am 25 years and 10 months old\n",
      "2510\n"
     ]
    }
   ],
   "source": [
    "#Solution 2\n",
    "def str_digit(str1):\n",
    "    print(\"Original string is:\", str1)\n",
    "    new_str = \"\".join([i for i in str1 if i.isdigit()])\n",
    "    print(new_str)\n",
    "\n",
    "str_trunc(\"I am 25 years and 10 months old\")"
   ]
  },
  {
   "cell_type": "markdown",
   "id": "28e972ce-7ef5-40ae-8cdb-0b6fdc5373a5",
   "metadata": {},
   "source": [
    "### Exercise 17: Find words with both alphabets and numbers\n",
    "##### Write a program to find words with both alphabets and numbers from an input string."
   ]
  },
  {
   "cell_type": "code",
   "execution_count": 106,
   "id": "63f0b7d3-2727-44be-a30d-6fd80f2a1de4",
   "metadata": {},
   "outputs": [
    {
     "name": "stdout",
     "output_type": "stream",
     "text": [
      "The original string is : Emma25 is Data scientist50 and AI Expert\n",
      "Displaying words with alphabets and numbers\n",
      "Emma25\n",
      "scientist50\n"
     ]
    }
   ],
   "source": [
    "# Copied from the given solution\n",
    "str1 = \"Emma25 is Data scientist50 and AI Expert\"\n",
    "print(\"The original string is : \" + str1)\n",
    "\n",
    "res = []\n",
    "temp = str1.split()\n",
    "\n",
    "for item in temp:\n",
    "    if any(char.isalpha() for char in item) and any(char.isdigit() for char in item):\n",
    "        res.append(item)\n",
    "\n",
    "print(\"Displaying words with alphabets and numbers\")\n",
    "for i in res:\n",
    "    print(i)"
   ]
  },
  {
   "cell_type": "markdown",
   "id": "577c22cd-3320-428c-8ad1-5ab679ca02b6",
   "metadata": {},
   "source": [
    "### Exercise 18: Replace each special symbol with # in the following string"
   ]
  },
  {
   "cell_type": "code",
   "execution_count": 102,
   "id": "6eec00c7-6350-4a02-a706-28abc49781e4",
   "metadata": {},
   "outputs": [
    {
     "name": "stdin",
     "output_type": "stream",
     "text": [
      "Enter the string to modify: /*Jon is @developer & musician!!\n"
     ]
    },
    {
     "name": "stdout",
     "output_type": "stream",
     "text": [
      "##Jon is #developer # musician##\n"
     ]
    }
   ],
   "source": [
    "str_test = str(input(\"Enter the string to modify:\"))\n",
    "\n",
    "for i in str_test:\n",
    "    if i == \" \":\n",
    "        str_test = str_test.replace(\"  \", \" #\")\n",
    "    elif i.isalnum() == False:\n",
    "        str_test = str_test.replace(i, \"#\")\n",
    "\n",
    "print(str_test)"
   ]
  },
  {
   "cell_type": "code",
   "execution_count": null,
   "id": "f9ea9e57-ebd9-4ee2-b843-2685e5871f91",
   "metadata": {},
   "outputs": [],
   "source": []
  }
 ],
 "metadata": {
  "kernelspec": {
   "display_name": "Python [conda env:base] *",
   "language": "python",
   "name": "conda-base-py"
  },
  "language_info": {
   "codemirror_mode": {
    "name": "ipython",
    "version": 3
   },
   "file_extension": ".py",
   "mimetype": "text/x-python",
   "name": "python",
   "nbconvert_exporter": "python",
   "pygments_lexer": "ipython3",
   "version": "3.12.7"
  }
 },
 "nbformat": 4,
 "nbformat_minor": 5
}
