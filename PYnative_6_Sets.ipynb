{
 "cells": [
  {
   "cell_type": "markdown",
   "id": "0f02c1e8-9bc8-48d0-856c-8fb7fa716d87",
   "metadata": {},
   "source": [
    "### Exercise 1: Add a list of elements to a set"
   ]
  },
  {
   "cell_type": "code",
   "execution_count": 63,
   "id": "024b6eac-2eeb-4458-af5d-a0bfc99bd793",
   "metadata": {},
   "outputs": [
    {
     "name": "stdout",
     "output_type": "stream",
     "text": [
      "{'Red', 'Green', 'Blue', 'Black', 'Orange', 'Yellow'}\n"
     ]
    }
   ],
   "source": [
    "# Solution 1\n",
    "\n",
    "sample_set = {\"Yellow\", \"Orange\", \"Black\"}\n",
    "sample_list = [\"Blue\", \"Green\", \"Red\"]\n",
    "\n",
    "for i in sample_list:\n",
    "    sample_set.add(i)\n",
    "\n",
    "print(sample_set)"
   ]
  },
  {
   "cell_type": "code",
   "execution_count": 64,
   "id": "3364293e-4538-46c6-8f16-df3f3790e67d",
   "metadata": {},
   "outputs": [
    {
     "name": "stdout",
     "output_type": "stream",
     "text": [
      "{'Red', 'Green', 'Blue', 'Black', 'Orange', 'Yellow'}\n"
     ]
    }
   ],
   "source": [
    "# Solution 2\n",
    "\n",
    "sample_set = {\"Yellow\", \"Orange\", \"Black\"}\n",
    "sample_list = [\"Blue\", \"Green\", \"Red\"]\n",
    "\n",
    "sample_set.update(sample_list)\n",
    "\n",
    "print(sample_set)"
   ]
  },
  {
   "cell_type": "markdown",
   "id": "2d75ccfb-9f32-4a33-a971-aed0920a13eb",
   "metadata": {},
   "source": [
    "### Exercise 2: Return a new set of identical items from two sets"
   ]
  },
  {
   "cell_type": "code",
   "execution_count": 66,
   "id": "8a36cb16-af06-4305-a0fd-63d33e1d87ee",
   "metadata": {},
   "outputs": [
    {
     "name": "stdout",
     "output_type": "stream",
     "text": [
      "{40, 50, 30}\n"
     ]
    }
   ],
   "source": [
    "set1 = {10, 20, 30, 40, 50}\n",
    "set2 = {30, 40, 50, 60, 70}\n",
    "\n",
    "# set3 = set1.intersection(set2)\n",
    "\n",
    "# print(set3)\n",
    "\n",
    "set3 = set1 & set2\n",
    "\n",
    "print(set3)\n"
   ]
  },
  {
   "cell_type": "markdown",
   "id": "c73c3f2b-48d2-4f92-8d87-7542cecd7dfb",
   "metadata": {},
   "source": [
    "### Exercise 3: Get Only unique items from two sets\n",
    "##### Write a Python program to return a new set with unique items from both sets by removing duplicates."
   ]
  },
  {
   "cell_type": "code",
   "execution_count": 68,
   "id": "67c824c2-771d-4e50-9628-bffb3342bb40",
   "metadata": {},
   "outputs": [
    {
     "name": "stdout",
     "output_type": "stream",
     "text": [
      "{70, 40, 10, 50, 20, 60, 30}\n"
     ]
    }
   ],
   "source": [
    "set1 = {10, 20, 30, 40, 50}\n",
    "set2 = {30, 40, 50, 60, 70}\n",
    "\n",
    "set3 = set1.union(set2)\n",
    "\n",
    "print(set3)"
   ]
  },
  {
   "cell_type": "markdown",
   "id": "38589df9-60c8-457c-9a9a-4fd1751df08b",
   "metadata": {},
   "source": [
    "### Exercise 4: Update the first set with items that don’t exist in the second set"
   ]
  },
  {
   "cell_type": "code",
   "execution_count": 70,
   "id": "d3e323f6-2d31-4a4a-9a36-f79d883a48ca",
   "metadata": {},
   "outputs": [
    {
     "name": "stdout",
     "output_type": "stream",
     "text": [
      "{10, 30}\n"
     ]
    }
   ],
   "source": [
    "set1 = {10, 20, 30}\n",
    "set2 = {20, 40, 50}\n",
    "\n",
    "set1.difference_update(set2)\n",
    "\n",
    "print(set1)"
   ]
  },
  {
   "cell_type": "markdown",
   "id": "70cdd2dc-50f7-4da8-b564-bc65f80766fd",
   "metadata": {},
   "source": [
    "### Exercise 5: Remove items from the set at once\n",
    "##### Write a Python program to remove items 10, 20, 30 from the following set at once.\n",
    "##### set1 = {10, 20, 30, 40, 50}"
   ]
  },
  {
   "cell_type": "code",
   "execution_count": 72,
   "id": "4a4b236c-4708-4ae5-9d8a-9c6978267bd9",
   "metadata": {},
   "outputs": [
    {
     "name": "stdout",
     "output_type": "stream",
     "text": [
      "{50, 40}\n"
     ]
    }
   ],
   "source": [
    "set1 = {10, 20, 30, 40, 50}\n",
    "set1.difference_update({10, 20, 30})\n",
    "print(set1)"
   ]
  },
  {
   "cell_type": "markdown",
   "id": "ff76d001-5f49-42bb-8d9c-c589c4f474bb",
   "metadata": {},
   "source": [
    "### Exercise 6: Return a set of elements present in Set A or B, but not both"
   ]
  },
  {
   "cell_type": "code",
   "execution_count": 74,
   "id": "782bc041-cc00-4b63-a4c5-47abb1419249",
   "metadata": {},
   "outputs": [
    {
     "name": "stdout",
     "output_type": "stream",
     "text": [
      "{10, 20, 70, 60}\n"
     ]
    }
   ],
   "source": [
    "# Solution 1\n",
    "set1 = {10, 20, 30, 40, 50}\n",
    "set2 = {30, 40, 50, 60, 70}\n",
    "\n",
    "set3 = set1.union(set2) - (set1 & set2)\n",
    "\n",
    "print(set3)"
   ]
  },
  {
   "cell_type": "code",
   "execution_count": 75,
   "id": "90506e73-d4dc-4873-83e0-fe22d309dc29",
   "metadata": {},
   "outputs": [
    {
     "name": "stdout",
     "output_type": "stream",
     "text": [
      "{20, 70, 10, 60}\n"
     ]
    }
   ],
   "source": [
    "# Solution 2\n",
    "set1 = {10, 20, 30, 40, 50}\n",
    "set2 = {30, 40, 50, 60, 70}\n",
    "\n",
    "print(set1.symmetric_difference(set2))"
   ]
  },
  {
   "cell_type": "markdown",
   "id": "9eeb0d97-e5f9-4979-b9f3-f74ce2b899cb",
   "metadata": {},
   "source": [
    "### Exercise 7: Check if two sets have any elements in common. If yes, display the common elements"
   ]
  },
  {
   "cell_type": "code",
   "execution_count": 77,
   "id": "69b7a611-0086-45f1-b0b3-763ff831228f",
   "metadata": {},
   "outputs": [
    {
     "name": "stdout",
     "output_type": "stream",
     "text": [
      "Two sets have items in common\n",
      "{10}\n"
     ]
    }
   ],
   "source": [
    "# Solution 1\n",
    "set1 = {10, 20, 30, 40, 50}\n",
    "set2 = {60, 70, 80, 90, 10}\n",
    "\n",
    "if set1 & set2:\n",
    "    print(\"Two sets have items in common\")\n",
    "    print(set1 & set2)\n",
    "else:\n",
    "    print(\"Two sets have no items in common\")"
   ]
  },
  {
   "cell_type": "code",
   "execution_count": 78,
   "id": "94eaed57-71ad-405a-a05d-c5193bc93d8f",
   "metadata": {},
   "outputs": [
    {
     "name": "stdout",
     "output_type": "stream",
     "text": [
      "Two sets have items in common\n",
      "{10}\n"
     ]
    }
   ],
   "source": [
    "# Solution 2\n",
    "set1 = {10, 20, 30, 40, 50}\n",
    "set2 = {60, 70, 80, 90, 10}\n",
    "\n",
    "if set1.isdisjoint(set2):\n",
    "  print(\"Two sets have no items in common\")\n",
    "else:\n",
    "  print(\"Two sets have items in common\")\n",
    "  print(set1.intersection(set2))"
   ]
  },
  {
   "cell_type": "markdown",
   "id": "a2307347-7bfd-4fd6-aac5-9d911f9816fb",
   "metadata": {},
   "source": [
    "### Exercise 8: Update set1 by adding items from set2, except common items"
   ]
  },
  {
   "cell_type": "code",
   "execution_count": 80,
   "id": "621fb63f-a045-4b3a-a946-486dad0ed375",
   "metadata": {},
   "outputs": [
    {
     "name": "stdout",
     "output_type": "stream",
     "text": [
      "{10, 20, 70, 60}\n"
     ]
    }
   ],
   "source": [
    "set1 = {10, 20, 30, 40, 50}\n",
    "set2 = {30, 40, 50, 60, 70}\n",
    "\n",
    "set3 = set1.union(set2) - (set1 & set2)\n",
    "\n",
    "print(set3)"
   ]
  },
  {
   "cell_type": "markdown",
   "id": "648560d2-0b45-4b7a-ad07-121dcea8c6d7",
   "metadata": {},
   "source": [
    "### Exercise 9: Remove items from set1 that are not common to both set1 and set2"
   ]
  },
  {
   "cell_type": "code",
   "execution_count": 82,
   "id": "cfcfde35-7a4a-4f0e-bf80-1352e8c81759",
   "metadata": {},
   "outputs": [
    {
     "name": "stdout",
     "output_type": "stream",
     "text": [
      "{40, 50, 30}\n"
     ]
    }
   ],
   "source": [
    "set1 = {10, 20, 30, 40, 50}\n",
    "set2 = {30, 40, 50, 60, 70}\n",
    "\n",
    "set1.intersection_update(set2)\n",
    "print(set1)"
   ]
  }
 ],
 "metadata": {
  "kernelspec": {
   "display_name": "Python [conda env:base] *",
   "language": "python",
   "name": "conda-base-py"
  },
  "language_info": {
   "codemirror_mode": {
    "name": "ipython",
    "version": 3
   },
   "file_extension": ".py",
   "mimetype": "text/x-python",
   "name": "python",
   "nbconvert_exporter": "python",
   "pygments_lexer": "ipython3",
   "version": "3.12.7"
  }
 },
 "nbformat": 4,
 "nbformat_minor": 5
}
